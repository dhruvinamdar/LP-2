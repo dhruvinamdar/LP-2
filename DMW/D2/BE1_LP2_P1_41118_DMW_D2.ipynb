{
  "nbformat": 4,
  "nbformat_minor": 0,
  "metadata": {
    "colab": {
      "name": "BE1_LP2_P1_41118_DMW_D2.ipynb",
      "provenance": [],
      "collapsed_sections": []
    },
    "kernelspec": {
      "name": "python3",
      "display_name": "Python 3"
    }
  },
  "cells": [
    {
      "cell_type": "code",
      "metadata": {
        "id": "LRDUYnhLyQOp"
      },
      "source": [
        "import pandas as pd\n",
        "import numpy as np\n",
        "import random as rd\n",
        "import matplotlib.pyplot as plt"
      ],
      "execution_count": null,
      "outputs": []
    },
    {
      "cell_type": "code",
      "metadata": {
        "id": "n6p6jlbN2WgQ"
      },
      "source": [
        "data1 = pd.read_csv(\"Datos_HT.csv\",sep=';')\n",
        "data1.head(5)\n",
        "data = data1.sample(300)\n",
        "adata = data"
      ],
      "execution_count": null,
      "outputs": []
    },
    {
      "cell_type": "code",
      "metadata": {
        "id": "DAo4Tgdx2wpJ",
        "colab": {
          "base_uri": "https://localhost:8080/",
          "height": 493
        },
        "outputId": "32242b61-d224-4d85-cda7-5d509985ada3"
      },
      "source": [
        "data.count(axis = 0) "
      ],
      "execution_count": null,
      "outputs": [
        {
          "output_type": "execute_result",
          "data": {
            "text/plain": [
              "MatchId                  300\n",
              "Home midfield            300\n",
              "Away midfield            300\n",
              "Home Right Defence       300\n",
              "Away Right Defence       300\n",
              "Home Central Defence     300\n",
              "Away Central Defence     300\n",
              "Home Left Defence        300\n",
              "Away Left Defence        300\n",
              "Home Right Attack        300\n",
              "Away Right Attack        300\n",
              "Home Central Attack      300\n",
              "Away Central Attack      300\n",
              "Home Left Attack         300\n",
              "Away Left Attack         300\n",
              "Home Indirect Defence    300\n",
              "Away Indirect Defence    300\n",
              "Home Indirect Attack     300\n",
              "Away Indirect Attack     300\n",
              "Home Attitude            300\n",
              "Away Attitude            300\n",
              "Home Tactic              300\n",
              "Away Tactic              300\n",
              "Home Tactic Level        300\n",
              "Away Tactic Level        300\n",
              "Home Goals               300\n",
              "Away Goals               300\n",
              "dtype: int64"
            ]
          },
          "metadata": {
            "tags": []
          },
          "execution_count": 79
        }
      ]
    },
    {
      "cell_type": "code",
      "metadata": {
        "id": "PQMXfdHt24nr",
        "colab": {
          "base_uri": "https://localhost:8080/",
          "height": 493
        },
        "outputId": "a4a9729a-3277-4ccf-a6e6-a69feb82b359"
      },
      "source": [
        "data.dtypes"
      ],
      "execution_count": null,
      "outputs": [
        {
          "output_type": "execute_result",
          "data": {
            "text/plain": [
              "MatchId                    int64\n",
              "Home midfield            float64\n",
              "Away midfield            float64\n",
              "Home Right Defence       float64\n",
              "Away Right Defence       float64\n",
              "Home Central Defence     float64\n",
              "Away Central Defence     float64\n",
              "Home Left Defence        float64\n",
              "Away Left Defence        float64\n",
              "Home Right Attack        float64\n",
              "Away Right Attack        float64\n",
              "Home Central Attack      float64\n",
              "Away Central Attack      float64\n",
              "Home Left Attack         float64\n",
              "Away Left Attack         float64\n",
              "Home Indirect Defence    float64\n",
              "Away Indirect Defence    float64\n",
              "Home Indirect Attack     float64\n",
              "Away Indirect Attack     float64\n",
              "Home Attitude             object\n",
              "Away Attitude             object\n",
              "Home Tactic               object\n",
              "Away Tactic               object\n",
              "Home Tactic Level         object\n",
              "Away Tactic Level         object\n",
              "Home Goals               float64\n",
              "Away Goals               float64\n",
              "dtype: object"
            ]
          },
          "metadata": {
            "tags": []
          },
          "execution_count": 80
        }
      ]
    },
    {
      "cell_type": "code",
      "metadata": {
        "id": "K_NAZZA44mAO"
      },
      "source": [
        "f1 = \"Home midfield\"\n",
        "f2 = \"Away midfield\""
      ],
      "execution_count": null,
      "outputs": []
    },
    {
      "cell_type": "code",
      "metadata": {
        "id": "5FYjFy1i29Wf",
        "colab": {
          "base_uri": "https://localhost:8080/",
          "height": 279
        },
        "outputId": "9616409a-8e8a-46aa-aa04-bdb23bafe5d5"
      },
      "source": [
        "X = data[[f1,f2]]\n",
        "#Visualise data points\n",
        "plt.scatter(X[f1],X[f2],c='black')\n",
        "plt.xlabel(f1)\n",
        "plt.ylabel(f2)\n",
        "plt.show()"
      ],
      "execution_count": null,
      "outputs": [
        {
          "output_type": "display_data",
          "data": {
            "image/png": "[encoded data removed]",
            "text/plain": [
              "<Figure size 432x288 with 1 Axes>"
            ]
          },
          "metadata": {
            "tags": [],
            "needs_background": "light"
          }
        }
      ]
    },
    {
      "cell_type": "code",
      "metadata": {
        "id": "Y21mD2PS3KmZ",
        "colab": {
          "base_uri": "https://localhost:8080/",
          "height": 279
        },
        "outputId": "9ec9ee36-084c-4038-8898-4fe1898dbe12"
      },
      "source": [
        "# Step 1 and 2 - Choose the number of clusters (k) and select random centroid for each cluster\n",
        "\n",
        "#number of clusters\n",
        "K=3\n",
        "\n",
        "# Select random observation as centroids\n",
        "Centroids = (X.sample(n=K))\n",
        "plt.scatter(X[f1],X[f2],c='black')\n",
        "plt.scatter(Centroids[f1],Centroids[f2],c='red')\n",
        "plt.xlabel(f1)\n",
        "plt.ylabel(f2)\n",
        "plt.show()\n"
      ],
      "execution_count": null,
      "outputs": [
        {
          "output_type": "display_data",
          "data": {
            "image/png": "[encoded data removed]",
            "text/plain": [
              "<Figure size 432x288 with 1 Axes>"
            ]
          },
          "metadata": {
            "tags": [],
            "needs_background": "light"
          }
        }
      ]
    },
    {
      "cell_type": "code",
      "metadata": {
        "id": "4i-8-Uii3z9a",
        "colab": {
          "base_uri": "https://localhost:8080/",
          "height": 289
        },
        "outputId": "3d1d9b31-e996-43b1-c853-1e03fa7e7d64"
      },
      "source": [
        "diff = 1\n",
        "j=0\n",
        "\n",
        "while(diff!=0):\n",
        "    XD=X\n",
        "    i=1\n",
        "    for index1,row_c in Centroids.iterrows():\n",
        "        ED=[]\n",
        "        for index2,row_d in XD.iterrows():\n",
        "            d1=(row_c[f1]-row_d[f1])**2\n",
        "            d2=(row_c[f2]-row_d[f2])**2\n",
        "            d=np.sqrt(d1+d2)\n",
        "            ED.append(d)\n",
        "        X[i]=ED\n",
        "        i=i+1\n",
        "\n",
        "    C=[]\n",
        "    for index,row in X.iterrows():\n",
        "        min_dist=row[1]\n",
        "        pos=1\n",
        "        for i in range(K):\n",
        "            if row[i+1] < min_dist:\n",
        "                min_dist = row[i+1]\n",
        "                pos=i+1\n",
        "        C.append(pos)\n",
        "    X[\"Cluster\"]=C\n",
        "    Centroids_new = X.groupby([\"Cluster\"]).mean()[[f1,f2]]\n",
        "    if j == 0:\n",
        "        diff=1\n",
        "        j=j+1\n",
        "    else:\n",
        "        diff = (Centroids_new[f1] - Centroids[f1]).sum() + (Centroids_new[f2] - Centroids[f2]).sum()\n",
        "        print(diff.sum())\n",
        "    Centroids = X.groupby([\"Cluster\"]).mean()[[f1,f2]]"
      ],
      "execution_count": null,
      "outputs": [
        {
          "output_type": "stream",
          "text": [
            "/usr/local/lib/python3.6/dist-packages/ipykernel_launcher.py:14: SettingWithCopyWarning: \n",
            "A value is trying to be set on a copy of a slice from a DataFrame.\n",
            "Try using .loc[row_indexer,col_indexer] = value instead\n",
            "\n",
            "See the caveats in the documentation: https://pandas.pydata.org/pandas-docs/stable/user_guide/indexing.html#returning-a-view-versus-a-copy\n",
            "  \n",
            "/usr/local/lib/python3.6/dist-packages/ipykernel_launcher.py:26: SettingWithCopyWarning: \n",
            "A value is trying to be set on a copy of a slice from a DataFrame.\n",
            "Try using .loc[row_indexer,col_indexer] = value instead\n",
            "\n",
            "See the caveats in the documentation: https://pandas.pydata.org/pandas-docs/stable/user_guide/indexing.html#returning-a-view-versus-a-copy\n"
          ],
          "name": "stderr"
        },
        {
          "output_type": "stream",
          "text": [
            "19.66040058686508\n",
            "9.081515042594049\n",
            "1.0064813688892054\n",
            "0.05224133703824929\n",
            "0.0\n"
          ],
          "name": "stdout"
        }
      ]
    },
    {
      "cell_type": "code",
      "metadata": {
        "id": "w0k9T9O-4O0x",
        "colab": {
          "base_uri": "https://localhost:8080/",
          "height": 279
        },
        "outputId": "7499f920-e68e-4781-e089-56342d3716c9"
      },
      "source": [
        "color=['blue','green','cyan']\n",
        "for k in range(K):\n",
        "    data=X[X[\"Cluster\"]==k+1]\n",
        "    plt.scatter(data[f1],data[f2],c=color[k])\n",
        "plt.scatter(Centroids[f1],Centroids[f2],c='red')\n",
        "plt.xlabel(f1)\n",
        "plt.ylabel(f2)\n",
        "plt.show()"
      ],
      "execution_count": null,
      "outputs": [
        {
          "output_type": "display_data",
          "data": {
            "image/png": "[encoded data removed]",
            "text/plain": [
              "<Figure size 432x288 with 1 Axes>"
            ]
          },
          "metadata": {
            "tags": [],
            "needs_background": "light"
          }
        }
      ]
    },
    {
      "cell_type": "code",
      "metadata": {
        "id": "BIxoA6lM4brZ",
        "colab": {
          "base_uri": "https://localhost:8080/",
          "height": 255
        },
        "outputId": "ffb56341-634e-42d1-f313-d14ffd423186"
      },
      "source": [
        "from sklearn.cluster import AgglomerativeClustering\n",
        "df1 = adata[['Home midfield', 'Away midfield']]\n",
        "cluster = AgglomerativeClustering(n_clusters=3, affinity='euclidean', linkage='ward')\n",
        "cluster.fit_predict(df1)"
      ],
      "execution_count": null,
      "outputs": [
        {
          "output_type": "execute_result",
          "data": {
            "text/plain": [
              "array([2, 0, 0, 2, 2, 2, 2, 1, 0, 1, 0, 0, 0, 2, 0, 2, 0, 0, 0, 2, 0, 0,\n",
              "       2, 1, 2, 0, 2, 1, 0, 1, 2, 2, 0, 0, 2, 2, 2, 0, 2, 2, 2, 2, 1, 2,\n",
              "       0, 1, 0, 0, 2, 2, 2, 0, 0, 2, 2, 2, 2, 2, 0, 1, 2, 2, 2, 2, 0, 2,\n",
              "       2, 0, 0, 2, 0, 2, 0, 1, 0, 2, 0, 0, 2, 0, 2, 0, 0, 1, 0, 0, 2, 2,\n",
              "       0, 1, 2, 2, 0, 1, 2, 2, 2, 0, 0, 2, 0, 0, 2, 0, 2, 2, 1, 0, 2, 2,\n",
              "       0, 0, 2, 2, 0, 0, 0, 0, 0, 0, 2, 0, 0, 2, 2, 2, 1, 0, 2, 2, 0, 0,\n",
              "       0, 1, 0, 2, 1, 2, 2, 2, 0, 0, 0, 0, 0, 2, 2, 2, 2, 2, 0, 0, 1, 2,\n",
              "       0, 2, 2, 2, 0, 2, 2, 0, 0, 0, 0, 1, 0, 2, 2, 2, 2, 1, 2, 2, 0, 2,\n",
              "       0, 2, 0, 0, 2, 0, 0, 0, 2, 0, 2, 2, 1, 1, 0, 0, 0, 0, 1, 2, 2, 0,\n",
              "       2, 2, 2, 0, 0, 2, 2, 2, 2, 2, 0, 2, 0, 0, 2, 0, 0, 0, 2, 2, 2, 1,\n",
              "       2, 2, 1, 0, 0, 0, 2, 2, 2, 0, 2, 1, 2, 0, 0, 0, 2, 0, 2, 2, 0, 0,\n",
              "       2, 2, 0, 2, 2, 2, 1, 2, 0, 1, 0, 2, 0, 1, 2, 2, 0, 0, 2, 1, 2, 2,\n",
              "       0, 2, 0, 2, 1, 2, 2, 0, 2, 2, 0, 0, 2, 0, 0, 1, 1, 2, 2, 0, 2, 2,\n",
              "       2, 0, 2, 2, 0, 2, 0, 2, 1, 2, 0, 2, 0, 2])"
            ]
          },
          "metadata": {
            "tags": []
          },
          "execution_count": 86
        }
      ]
    },
    {
      "cell_type": "code",
      "metadata": {
        "id": "A6ywn4vM-Y5S",
        "colab": {
          "base_uri": "https://localhost:8080/",
          "height": 68
        },
        "outputId": "1fa3928e-3694-4767-8811-ccb83a38e1e0"
      },
      "source": [
        "df1.head()\n",
        "df1.count()"
      ],
      "execution_count": null,
      "outputs": [
        {
          "output_type": "execute_result",
          "data": {
            "text/plain": [
              "Home midfield    300\n",
              "Away midfield    300\n",
              "dtype: int64"
            ]
          },
          "metadata": {
            "tags": []
          },
          "execution_count": 87
        }
      ]
    },
    {
      "cell_type": "code",
      "metadata": {
        "id": "WOoYlzeQ9Ay1",
        "colab": {
          "base_uri": "https://localhost:8080/",
          "height": 282
        },
        "outputId": "0fb81a04-bd3c-4300-bccf-589a22e72d06"
      },
      "source": [
        "plt.scatter(df1['Home midfield'],df1['Away midfield'], c=cluster.labels_, cmap='rainbow')"
      ],
      "execution_count": null,
      "outputs": [
        {
          "output_type": "execute_result",
          "data": {
            "text/plain": [
              "<matplotlib.collections.PathCollection at 0x7ff48ac5c5c0>"
            ]
          },
          "metadata": {
            "tags": []
          },
          "execution_count": 88
        },
        {
          "output_type": "display_data",
          "data": {
            "image/png": "[encoded data removed]",
            "text/plain": [
              "<Figure size 432x288 with 1 Axes>"
            ]
          },
          "metadata": {
            "tags": [],
            "needs_background": "light"
          }
        }
      ]
    },
    {
      "cell_type": "code",
      "metadata": {
        "id": "jpURjQIV9iV6"
      },
      "source": [
        ""
      ],
      "execution_count": null,
      "outputs": []
    }
  ]
}